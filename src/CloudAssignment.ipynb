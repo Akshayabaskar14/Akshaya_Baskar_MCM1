{
 "cells": [
  {
   "cell_type": "code",
   "execution_count": 3,
   "id": "1bac922f-6128-4b52-be16-6d4e086e2802",
   "metadata": {},
   "outputs": [
    {
     "name": "stdout",
     "output_type": "stream",
     "text": [
      "Spark initialized successfully!\n"
     ]
    }
   ],
   "source": [
    "import findspark\n",
    "findspark.init()\n",
    "\n",
    "from pyspark.sql import SparkSession\n",
    "spark = SparkSession.builder \\\n",
    "    .appName(\"AirlineDataAnalysis\") \\\n",
    "    .getOrCreate()\n",
    "\n",
    "print(\"Spark initialized successfully!\")\n"
   ]
  },
  {
   "cell_type": "raw",
   "id": "fb816390-7bca-465e-8d23-140bbbc80090",
   "metadata": {},
   "source": [
    "# Paths to the datasets\n",
    "file_paths = [\"/Users/apple/Documents/CloudTech/Cloud Assignment/datasets/2015.csv\", \"/Users/apple/Documents/CloudTech/Cloud Assignment/datasets/2016.csv\",\n",
    "              \"/Users/apple/Documents/CloudTech/Cloud Assignment/datasets/2015.csv\"]\n",
    "\n",
    "def load_data(file_path):\n",
    "    return spark.read.csv(file_path, header=True, inferSchema=True)\n",
    "\n",
    "# Combine all datasets into one DataFrame\n",
    "dfs = [load_data(file) for file in file_paths if load_data(file) is not None]\n",
    "data = dfs[0].union(dfs[1]).union(dfs[2]) if len(dfs) > 1 else dfs[0]\n",
    "\n",
    "if data is None:\n",
    "    raise Exception(\"No valid data loaded!\")\n",
    "\n",
    "print(\"Data loaded successfully!\")\n",
    "\n",
    "# Standardize column names (lowercase, trimmed)\n",
    "data = data.toDF(*[col_name.strip().lower() for col_name in data.columns])\n",
    "\n",
    "# Show schema and initial rows to verify\n",
    "data.printSchema()\n",
    "data.show(5)\n",
    "\n",
    "\n",
    "\n"
   ]
  },
  {
   "cell_type": "code",
   "execution_count": 13,
   "id": "21ab3d79-1033-441d-a82a-c751d5264b1b",
   "metadata": {},
   "outputs": [],
   "source": [
    "from pyspark.sql.functions import *"
   ]
  },
  {
   "cell_type": "code",
   "execution_count": 11,
   "id": "df8a6f81-4125-4647-b6a3-ff99e15ff514",
   "metadata": {},
   "outputs": [
    {
     "ename": "NameError",
     "evalue": "name 'data' is not defined",
     "output_type": "error",
     "traceback": [
      "\u001b[0;31m---------------------------------------------------------------------------\u001b[0m",
      "\u001b[0;31mNameError\u001b[0m                                 Traceback (most recent call last)",
      "Cell \u001b[0;32mIn[11], line 5\u001b[0m\n\u001b[1;32m      1\u001b[0m \u001b[38;5;66;03m# Step 1: Data Cleaning\u001b[39;00m\n\u001b[1;32m      2\u001b[0m \u001b[38;5;66;03m# Select relevant columns for the analysis\u001b[39;00m\n\u001b[1;32m      4\u001b[0m columns_needed \u001b[38;5;241m=\u001b[39m [\u001b[38;5;124m\"\u001b[39m\u001b[38;5;124morigin\u001b[39m\u001b[38;5;124m\"\u001b[39m, \u001b[38;5;124m\"\u001b[39m\u001b[38;5;124mdest\u001b[39m\u001b[38;5;124m\"\u001b[39m, \u001b[38;5;124m\"\u001b[39m\u001b[38;5;124mfl_date\u001b[39m\u001b[38;5;124m\"\u001b[39m]\n\u001b[0;32m----> 5\u001b[0m missing_columns \u001b[38;5;241m=\u001b[39m [col \u001b[38;5;28;01mfor\u001b[39;00m col \u001b[38;5;129;01min\u001b[39;00m columns_needed \u001b[38;5;28;01mif\u001b[39;00m col \u001b[38;5;129;01mnot\u001b[39;00m \u001b[38;5;129;01min\u001b[39;00m data\u001b[38;5;241m.\u001b[39mcolumns]\n\u001b[1;32m      6\u001b[0m \u001b[38;5;28;01mif\u001b[39;00m missing_columns:\n\u001b[1;32m      7\u001b[0m     \u001b[38;5;28;01mraise\u001b[39;00m \u001b[38;5;167;01mException\u001b[39;00m(\u001b[38;5;124mf\u001b[39m\u001b[38;5;124m\"\u001b[39m\u001b[38;5;124mMissing required columns: \u001b[39m\u001b[38;5;132;01m{\u001b[39;00mmissing_columns\u001b[38;5;132;01m}\u001b[39;00m\u001b[38;5;124m\"\u001b[39m)\n",
      "\u001b[0;31mNameError\u001b[0m: name 'data' is not defined"
     ]
    }
   ],
   "source": [
    "# Step 1: Data Cleaning\n",
    "# Select relevant columns for the analysis\n",
    "\n",
    "columns_needed = [\"origin\", \"dest\", \"fl_date\"]\n",
    "missing_columns = [col for col in columns_needed if col not in data.columns]\n",
    "if missing_columns:\n",
    "    raise Exception(f\"Missing required columns: {missing_columns}\")\n",
    "\n",
    "# Select and clean the relevant columns\n",
    "data_cleaned = data.select(*columns_needed).dropna()\n",
    "\n",
    "# Trim whitespace and standardize case for origin and destination columns\n",
    "data_cleaned = data_cleaned.withColumn(\"origin\", trim(lower(col(\"origin\")))) \\\n",
    "                           .withColumn(\"dest\", trim(lower(col(\"dest\"))))\n",
    "\n",
    "print(\"Data cleaned successfully!\")\n",
    "data_cleaned.show(5)"
   ]
  },
  {
   "cell_type": "code",
   "execution_count": 59,
   "id": "ddf2fd49-3bff-4758-8a62-71bee08a5e71",
   "metadata": {},
   "outputs": [],
   "source": [
    "# Step 2: Create Route Column\n",
    "# Combine origin and destination into a single Route column\n",
    "data_routes = data_cleaned.withColumn(\"route\", concat_ws(\"-\", col(\"origin\"), col(\"dest\")))"
   ]
  },
  {
   "cell_type": "code",
   "execution_count": 69,
   "id": "72f886ae-8626-43f3-a307-04c85d5cfbae",
   "metadata": {},
   "outputs": [],
   "source": [
    "# Step 3: Analyze Top 5 Routes\n",
    "# Count flights per route\n",
    "route_counts = data_routes.groupBy(\"route\").agg(count(\"*\").alias(\"flight_count\")).orderBy(desc(\"flight_count\"))"
   ]
  },
  {
   "cell_type": "code",
   "execution_count": 71,
   "id": "464159a8-b3d5-478c-8ef9-a9acb1ca7cd2",
   "metadata": {},
   "outputs": [
    {
     "name": "stdout",
     "output_type": "stream",
     "text": [
      "Top 5 Routes by Flight Count:\n"
     ]
    },
    {
     "name": "stderr",
     "output_type": "stream",
     "text": [
      "[Stage 48:=======================================>                (17 + 7) / 24]\r"
     ]
    },
    {
     "name": "stdout",
     "output_type": "stream",
     "text": [
      "+-------+------------+\n",
      "|  route|flight_count|\n",
      "+-------+------------+\n",
      "|sfo-lax|       48585|\n",
      "|lax-sfo|       47680|\n",
      "|jfk-lax|       38434|\n",
      "|lax-jfk|       38424|\n",
      "|las-lax|       33166|\n",
      "+-------+------------+\n",
      "\n"
     ]
    },
    {
     "name": "stderr",
     "output_type": "stream",
     "text": [
      "                                                                                \r"
     ]
    }
   ],
   "source": [
    "# Show top 5 routes\n",
    "top_routes = route_counts.limit(5)\n",
    "print(\"Top 5 Routes by Flight Count:\")\n",
    "top_routes.show()"
   ]
  },
  {
   "cell_type": "code",
   "execution_count": 73,
   "id": "f3e4adf8-760a-443f-8996-ed219f0a1295",
   "metadata": {},
   "outputs": [],
   "source": [
    "# Step 4: Additional Analysis - Monthly Flight Trends\n",
    "# Extract year and month from fl_date\n",
    "data_routes = data_routes.withColumn(\"year\", year(col(\"fl_date\"))) \\\n",
    "                         .withColumn(\"month\", month(col(\"fl_date\")))"
   ]
  },
  {
   "cell_type": "code",
   "execution_count": 75,
   "id": "926835d7-43a4-4133-8908-e68244201a09",
   "metadata": {},
   "outputs": [
    {
     "name": "stdout",
     "output_type": "stream",
     "text": [
      "Monthly flight trends:\n"
     ]
    },
    {
     "name": "stderr",
     "output_type": "stream",
     "text": [
      "[Stage 51:============================================>           (19 + 5) / 24]\r"
     ]
    },
    {
     "name": "stdout",
     "output_type": "stream",
     "text": [
      "+----+-----+-------+--------------------+\n",
      "|year|month|  route|monthly_flight_count|\n",
      "+----+-----+-------+--------------------+\n",
      "|2015|    1|cvg-ord|                 328|\n",
      "|2015|    1|dsm-ord|                 303|\n",
      "|2015|    1|sea-fat|                  64|\n",
      "|2015|    1|bzn-sfo|                   5|\n",
      "|2015|    1|hnl-ewr|                  31|\n",
      "|2015|    1|phl-sfo|                 178|\n",
      "|2015|    1|sfo-fll|                 136|\n",
      "|2015|    1|fll-stl|                  67|\n",
      "|2015|    1|hou-clt|                  31|\n",
      "|2015|    1|mci-lax|                  63|\n",
      "+----+-----+-------+--------------------+\n",
      "only showing top 10 rows\n",
      "\n"
     ]
    },
    {
     "name": "stderr",
     "output_type": "stream",
     "text": [
      "                                                                                \r"
     ]
    }
   ],
   "source": [
    "# Group by year, month, and route\n",
    "monthly_trends = data_routes.groupBy(\"year\", \"month\", \"route\").agg(count(\"*\").alias(\"monthly_flight_count\"))\n",
    "print(\"Monthly flight trends:\")\n",
    "monthly_trends.show(10)"
   ]
  },
  {
   "cell_type": "code",
   "execution_count": 79,
   "id": "281393db-b949-45ba-bbb3-a8b3d8f9121d",
   "metadata": {},
   "outputs": [
    {
     "name": "stderr",
     "output_type": "stream",
     "text": [
      "[Stage 60:============================================>           (19 + 5) / 24]\r"
     ]
    },
    {
     "name": "stdout",
     "output_type": "stream",
     "text": [
      "Analysis results saved successfully at:\n",
      "/Users/apple/Documents/CloudTech/Cloud Assignment/top_routes\n",
      "/Users/apple/Documents/CloudTech/Cloud Assignment/monthly_trends\n"
     ]
    },
    {
     "name": "stderr",
     "output_type": "stream",
     "text": [
      "                                                                                \r"
     ]
    }
   ],
   "source": [
    "import shutil\n",
    "import os\n",
    "\n",
    "# Local paths for saving results\n",
    "local_top_routes_path = \"/Users/apple/Documents/CloudTech/Cloud Assignment/top_routes\"\n",
    "local_monthly_trends_path = \"/Users/apple/Documents/CloudTech/Cloud Assignment/monthly_trends\"\n",
    "\n",
    "# Delete existing directories if they exist\n",
    "if os.path.exists(local_top_routes_path):\n",
    "    shutil.rmtree(local_top_routes_path)\n",
    "\n",
    "if os.path.exists(local_monthly_trends_path):\n",
    "    shutil.rmtree(local_monthly_trends_path)\n",
    "\n",
    "# Save the top 5 routes and monthly trends to local paths\n",
    "try:\n",
    "    top_routes.write.csv(local_top_routes_path, header=True, mode=\"overwrite\")\n",
    "    monthly_trends.write.csv(local_monthly_trends_path, header=True, mode=\"overwrite\")\n",
    "    print(f\"Analysis results saved successfully at:\\n{local_top_routes_path}\\n{local_monthly_trends_path}\")\n",
    "except Exception as e:\n",
    "    print(f\"Error saving results: {e}\")\n"
   ]
  },
  {
   "cell_type": "code",
   "execution_count": null,
   "id": "052e99f2-a1b8-4d1b-9eb8-76a6a3ae3d6f",
   "metadata": {},
   "outputs": [],
   "source": []
  }
 ],
 "metadata": {
  "kernelspec": {
   "display_name": "Python 3 (ipykernel)",
   "language": "python",
   "name": "python3"
  },
  "language_info": {
   "codemirror_mode": {
    "name": "ipython",
    "version": 3
   },
   "file_extension": ".py",
   "mimetype": "text/x-python",
   "name": "python",
   "nbconvert_exporter": "python",
   "pygments_lexer": "ipython3",
   "version": "3.12.2"
  }
 },
 "nbformat": 4,
 "nbformat_minor": 5
}
