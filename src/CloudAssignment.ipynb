{
 "cells": [
  {
   "cell_type": "code",
   "execution_count": 11,
   "id": "1bac922f-6128-4b52-be16-6d4e086e2802",
   "metadata": {},
   "outputs": [
    {
     "name": "stdout",
     "output_type": "stream",
     "text": [
      "Spark initialized successfully!\n"
     ]
    }
   ],
   "source": [
    "import findspark\n",
    "findspark.init()\n",
    "\n",
    "from pyspark.sql import SparkSession\n",
    "spark = SparkSession.builder \\\n",
    "    .appName(\"AirlineDataAnalysis\") \\\n",
    "    .getOrCreate()\n",
    "\n",
    "print(\"Spark initialized successfully!\")\n"
   ]
  },
  {
   "cell_type": "code",
   "execution_count": 13,
   "id": "a2da9515-0c56-4548-8c0a-5ba9659e75fa",
   "metadata": {},
   "outputs": [
    {
     "name": "stderr",
     "output_type": "stream",
     "text": [
      "                                                                                \r"
     ]
    },
    {
     "name": "stdout",
     "output_type": "stream",
     "text": [
      "Data loaded successfully!\n",
      "root\n",
      " |-- fl_date: date (nullable = true)\n",
      " |-- op_carrier: string (nullable = true)\n",
      " |-- op_carrier_fl_num: integer (nullable = true)\n",
      " |-- origin: string (nullable = true)\n",
      " |-- dest: string (nullable = true)\n",
      " |-- crs_dep_time: integer (nullable = true)\n",
      " |-- dep_time: double (nullable = true)\n",
      " |-- dep_delay: double (nullable = true)\n",
      " |-- taxi_out: double (nullable = true)\n",
      " |-- wheels_off: double (nullable = true)\n",
      " |-- wheels_on: double (nullable = true)\n",
      " |-- taxi_in: double (nullable = true)\n",
      " |-- crs_arr_time: integer (nullable = true)\n",
      " |-- arr_time: double (nullable = true)\n",
      " |-- arr_delay: double (nullable = true)\n",
      " |-- cancelled: double (nullable = true)\n",
      " |-- cancellation_code: string (nullable = true)\n",
      " |-- diverted: double (nullable = true)\n",
      " |-- crs_elapsed_time: double (nullable = true)\n",
      " |-- actual_elapsed_time: double (nullable = true)\n",
      " |-- air_time: double (nullable = true)\n",
      " |-- distance: double (nullable = true)\n",
      " |-- carrier_delay: double (nullable = true)\n",
      " |-- weather_delay: double (nullable = true)\n",
      " |-- nas_delay: double (nullable = true)\n",
      " |-- security_delay: double (nullable = true)\n",
      " |-- late_aircraft_delay: double (nullable = true)\n",
      " |-- unnamed: 27: string (nullable = true)\n",
      "\n"
     ]
    },
    {
     "name": "stderr",
     "output_type": "stream",
     "text": [
      "24/12/20 11:15:24 WARN SparkStringUtils: Truncated the string representation of a plan since it was too large. This behavior can be adjusted by setting 'spark.sql.debug.maxToStringFields'.\n"
     ]
    },
    {
     "name": "stdout",
     "output_type": "stream",
     "text": [
      "+----------+----------+-----------------+------+----+------------+--------+---------+--------+----------+---------+-------+------------+--------+---------+---------+-----------------+--------+----------------+-------------------+--------+--------+-------------+-------------+---------+--------------+-------------------+-----------+\n",
      "|   fl_date|op_carrier|op_carrier_fl_num|origin|dest|crs_dep_time|dep_time|dep_delay|taxi_out|wheels_off|wheels_on|taxi_in|crs_arr_time|arr_time|arr_delay|cancelled|cancellation_code|diverted|crs_elapsed_time|actual_elapsed_time|air_time|distance|carrier_delay|weather_delay|nas_delay|security_delay|late_aircraft_delay|unnamed: 27|\n",
      "+----------+----------+-----------------+------+----+------------+--------+---------+--------+----------+---------+-------+------------+--------+---------+---------+-----------------+--------+----------------+-------------------+--------+--------+-------------+-------------+---------+--------------+-------------------+-----------+\n",
      "|2015-01-01|        NK|              195|   MCO| FLL|        2147|  2143.0|     -4.0|    15.0|    2158.0|   2238.0|    7.0|        2250|  2245.0|     -5.0|      0.0|             NULL|     0.0|            63.0|               62.0|    40.0|   177.0|         NULL|         NULL|     NULL|          NULL|               NULL|       NULL|\n",
      "|2015-01-01|        NK|              197|   LGA| FLL|        1050|  1104.0|     14.0|    20.0|    1124.0|   1354.0|    9.0|        1404|  1403.0|     -1.0|      0.0|             NULL|     0.0|           194.0|              179.0|   150.0|  1076.0|         NULL|         NULL|     NULL|          NULL|               NULL|       NULL|\n",
      "|2015-01-01|        NK|              198|   FLL| MCO|         700|   712.0|     12.0|    19.0|     731.0|    803.0|   10.0|         757|   813.0|     16.0|      0.0|             NULL|     0.0|            57.0|               61.0|    32.0|   177.0|          0.0|          0.0|     16.0|           0.0|                0.0|       NULL|\n",
      "|2015-01-01|        NK|              199|   IAH| LAS|        2240|  2251.0|     11.0|     8.0|    2259.0|   2343.0|    4.0|        2356|  2347.0|     -9.0|      0.0|             NULL|     0.0|           196.0|              176.0|   164.0|  1222.0|         NULL|         NULL|     NULL|          NULL|               NULL|       NULL|\n",
      "|2015-01-01|        NK|              200|   IAH| ORD|         623|   620.0|     -3.0|    15.0|     635.0|    830.0|   10.0|         855|   840.0|    -15.0|      0.0|             NULL|     0.0|           152.0|              140.0|   115.0|   925.0|         NULL|         NULL|     NULL|          NULL|               NULL|       NULL|\n",
      "+----------+----------+-----------------+------+----+------------+--------+---------+--------+----------+---------+-------+------------+--------+---------+---------+-----------------+--------+----------------+-------------------+--------+--------+-------------+-------------+---------+--------------+-------------------+-----------+\n",
      "only showing top 5 rows\n",
      "\n"
     ]
    }
   ],
   "source": [
    "# Paths to the datasets\n",
    "file_paths = [\"/Users/apple/Documents/CloudTech/Cloud Assignment/datasets/2015.csv\", \n",
    "              \"/Users/apple/Documents/CloudTech/Cloud Assignment/datasets/2016.csv\", \n",
    "              \"/Users/apple/Documents/CloudTech/Cloud Assignment/datasets/2015.csv\"]\n",
    "\n",
    "def load_data(file_path):\n",
    "    return spark.read.csv(file_path, header=True, inferSchema=True)\n",
    "\n",
    "#Combine all datasets into one DataFrame\n",
    "dfs = [load_data(file) for file in file_paths if load_data(file) is not None]\n",
    "data = dfs[0].union(dfs[1]).union(dfs[2]) if len(dfs) > 1 else dfs[0]\n",
    "\n",
    "if data is None:\n",
    "    raise Exception(\"No valid data loaded!\")\n",
    "\n",
    "print(\"Data loaded successfully!\")\n",
    "\n",
    "# Standardize column names (lowercase, trimmed)\n",
    "data = data.toDF(*[col_name.strip().lower() for col_name in data.columns])\n",
    "\n",
    "# Show schema and initial rows to verify\n",
    "data.printSchema()\n",
    "data.show(5)"
   ]
  },
  {
   "cell_type": "code",
   "execution_count": 15,
   "id": "21ab3d79-1033-441d-a82a-c751d5264b1b",
   "metadata": {},
   "outputs": [],
   "source": [
    "from pyspark.sql.functions import *"
   ]
  },
  {
   "cell_type": "code",
   "execution_count": 17,
   "id": "df8a6f81-4125-4647-b6a3-ff99e15ff514",
   "metadata": {},
   "outputs": [
    {
     "name": "stdout",
     "output_type": "stream",
     "text": [
      "Data cleaned successfully!\n",
      "+------+----+----------+\n",
      "|origin|dest|   fl_date|\n",
      "+------+----+----------+\n",
      "|   mco| fll|2015-01-01|\n",
      "|   lga| fll|2015-01-01|\n",
      "|   fll| mco|2015-01-01|\n",
      "|   iah| las|2015-01-01|\n",
      "|   iah| ord|2015-01-01|\n",
      "+------+----+----------+\n",
      "only showing top 5 rows\n",
      "\n"
     ]
    }
   ],
   "source": [
    "# Step 1: Data Cleaning\n",
    "# Select relevant columns for the analysis\n",
    "\n",
    "columns_needed = [\"origin\", \"dest\", \"fl_date\"]\n",
    "missing_columns = [col for col in columns_needed if col not in data.columns]\n",
    "if missing_columns:\n",
    "    raise Exception(f\"Missing required columns: {missing_columns}\")\n",
    "\n",
    "# Select and clean the relevant columns\n",
    "data_cleaned = data.select(*columns_needed).dropna()\n",
    "\n",
    "# Trim whitespace and standardize case for origin and destination columns\n",
    "data_cleaned = data_cleaned.withColumn(\"origin\", trim(lower(col(\"origin\")))) \\\n",
    "                           .withColumn(\"dest\", trim(lower(col(\"dest\"))))\n",
    "\n",
    "print(\"Data cleaned successfully!\")\n",
    "data_cleaned.show(5)"
   ]
  },
  {
   "cell_type": "code",
   "execution_count": 19,
   "id": "ddf2fd49-3bff-4758-8a62-71bee08a5e71",
   "metadata": {},
   "outputs": [],
   "source": [
    "# Step 2: Create Route Column\n",
    "# Combine origin and destination into a single Route column\n",
    "data_routes = data_cleaned.withColumn(\"route\", concat_ws(\"-\", col(\"origin\"), col(\"dest\")))"
   ]
  },
  {
   "cell_type": "code",
   "execution_count": 21,
   "id": "72f886ae-8626-43f3-a307-04c85d5cfbae",
   "metadata": {},
   "outputs": [],
   "source": [
    "# Step 3: Analyze Top 5 Routes\n",
    "# Count flights per route\n",
    "route_counts = data_routes.groupBy(\"route\").agg(count(\"*\").alias(\"flight_count\")).orderBy(desc(\"flight_count\"))"
   ]
  },
  {
   "cell_type": "code",
   "execution_count": 23,
   "id": "464159a8-b3d5-478c-8ef9-a9acb1ca7cd2",
   "metadata": {},
   "outputs": [
    {
     "name": "stdout",
     "output_type": "stream",
     "text": [
      "Top 5 Routes by Flight Count:\n"
     ]
    },
    {
     "name": "stderr",
     "output_type": "stream",
     "text": [
      "[Stage 14:=================================================>      (21 + 3) / 24]\r"
     ]
    },
    {
     "name": "stdout",
     "output_type": "stream",
     "text": [
      "+-------+------------+\n",
      "|  route|flight_count|\n",
      "+-------+------------+\n",
      "|sfo-lax|       47915|\n",
      "|lax-sfo|       46915|\n",
      "|jfk-lax|       38789|\n",
      "|lax-jfk|       38778|\n",
      "|las-lax|       32795|\n",
      "+-------+------------+\n",
      "\n"
     ]
    },
    {
     "name": "stderr",
     "output_type": "stream",
     "text": [
      "                                                                                \r"
     ]
    }
   ],
   "source": [
    "# Show top 5 routes\n",
    "top_routes = route_counts.limit(5)\n",
    "print(\"Top 5 Routes by Flight Count:\")\n",
    "top_routes.show()"
   ]
  },
  {
   "cell_type": "code",
   "execution_count": 73,
   "id": "f3e4adf8-760a-443f-8996-ed219f0a1295",
   "metadata": {},
   "outputs": [],
   "source": [
    "# Step 4: Additional Analysis - Monthly Flight Trends\n",
    "# Extract year and month from fl_date\n",
    "data_routes = data_routes.withColumn(\"year\", year(col(\"fl_date\"))) \\\n",
    "                         .withColumn(\"month\", month(col(\"fl_date\")))"
   ]
  },
  {
   "cell_type": "code",
   "execution_count": 75,
   "id": "926835d7-43a4-4133-8908-e68244201a09",
   "metadata": {},
   "outputs": [
    {
     "name": "stdout",
     "output_type": "stream",
     "text": [
      "Monthly flight trends:\n"
     ]
    },
    {
     "name": "stderr",
     "output_type": "stream",
     "text": [
      "[Stage 51:============================================>           (19 + 5) / 24]\r"
     ]
    },
    {
     "name": "stdout",
     "output_type": "stream",
     "text": [
      "+----+-----+-------+--------------------+\n",
      "|year|month|  route|monthly_flight_count|\n",
      "+----+-----+-------+--------------------+\n",
      "|2015|    1|cvg-ord|                 328|\n",
      "|2015|    1|dsm-ord|                 303|\n",
      "|2015|    1|sea-fat|                  64|\n",
      "|2015|    1|bzn-sfo|                   5|\n",
      "|2015|    1|hnl-ewr|                  31|\n",
      "|2015|    1|phl-sfo|                 178|\n",
      "|2015|    1|sfo-fll|                 136|\n",
      "|2015|    1|fll-stl|                  67|\n",
      "|2015|    1|hou-clt|                  31|\n",
      "|2015|    1|mci-lax|                  63|\n",
      "+----+-----+-------+--------------------+\n",
      "only showing top 10 rows\n",
      "\n"
     ]
    },
    {
     "name": "stderr",
     "output_type": "stream",
     "text": [
      "                                                                                \r"
     ]
    }
   ],
   "source": [
    "# Group by year, month, and route\n",
    "monthly_trends = data_routes.groupBy(\"year\", \"month\", \"route\").agg(count(\"*\").alias(\"monthly_flight_count\"))\n",
    "print(\"Monthly flight trends:\")\n",
    "monthly_trends.show(10)"
   ]
  },
  {
   "cell_type": "code",
   "execution_count": 79,
   "id": "281393db-b949-45ba-bbb3-a8b3d8f9121d",
   "metadata": {},
   "outputs": [
    {
     "name": "stderr",
     "output_type": "stream",
     "text": [
      "[Stage 60:============================================>           (19 + 5) / 24]\r"
     ]
    },
    {
     "name": "stdout",
     "output_type": "stream",
     "text": [
      "Analysis results saved successfully at:\n",
      "/Users/apple/Documents/CloudTech/Cloud Assignment/top_routes\n",
      "/Users/apple/Documents/CloudTech/Cloud Assignment/monthly_trends\n"
     ]
    },
    {
     "name": "stderr",
     "output_type": "stream",
     "text": [
      "                                                                                \r"
     ]
    }
   ],
   "source": [
    "import shutil\n",
    "import os\n",
    "\n",
    "# Local paths for saving results\n",
    "local_top_routes_path = \"/Users/apple/Documents/CloudTech/Cloud Assignment/top_routes\"\n",
    "local_monthly_trends_path = \"/Users/apple/Documents/CloudTech/Cloud Assignment/monthly_trends\"\n",
    "\n",
    "# Delete existing directories if they exist\n",
    "if os.path.exists(local_top_routes_path):\n",
    "    shutil.rmtree(local_top_routes_path)\n",
    "\n",
    "if os.path.exists(local_monthly_trends_path):\n",
    "    shutil.rmtree(local_monthly_trends_path)\n",
    "\n",
    "# Save the top 5 routes and monthly trends to local paths\n",
    "try:\n",
    "    top_routes.write.csv(local_top_routes_path, header=True, mode=\"overwrite\")\n",
    "    monthly_trends.write.csv(local_monthly_trends_path, header=True, mode=\"overwrite\")\n",
    "    print(f\"Analysis results saved successfully at:\\n{local_top_routes_path}\\n{local_monthly_trends_path}\")\n",
    "except Exception as e:\n",
    "    print(f\"Error saving results: {e}\")\n"
   ]
  },
  {
   "cell_type": "code",
   "execution_count": null,
   "id": "052e99f2-a1b8-4d1b-9eb8-76a6a3ae3d6f",
   "metadata": {},
   "outputs": [],
   "source": []
  }
 ],
 "metadata": {
  "kernelspec": {
   "display_name": "Python 3 (ipykernel)",
   "language": "python",
   "name": "python3"
  },
  "language_info": {
   "codemirror_mode": {
    "name": "ipython",
    "version": 3
   },
   "file_extension": ".py",
   "mimetype": "text/x-python",
   "name": "python",
   "nbconvert_exporter": "python",
   "pygments_lexer": "ipython3",
   "version": "3.12.2"
  }
 },
 "nbformat": 4,
 "nbformat_minor": 5
}
